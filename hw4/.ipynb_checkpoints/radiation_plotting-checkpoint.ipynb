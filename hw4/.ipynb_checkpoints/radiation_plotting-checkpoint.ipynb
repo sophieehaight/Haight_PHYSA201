{
 "cells": [
  {
   "cell_type": "code",
   "execution_count": null,
   "id": "a8b822cc-92e6-48fd-94c2-d9d7beb0e8b7",
   "metadata": {},
   "outputs": [],
   "source": [
    "import numpy as np \n",
    "\n",
    "#define constants \n",
    "q = 4.8e-10 # electron charge in statcoloumb \n",
    "a_prime = \n",
    "c = 3e10 #cm/s \n",
    "A = q**2* a_prime**2/(4*np.pi*c**3)\n",
    "\n",
    "v =\n",
    "phi = 0.0 #we want to plot in the xz plane \n"
   ]
  },
  {
   "cell_type": "code",
   "execution_count": null,
   "id": "691f3001-5dc5-4613-a49e-813543745bc7",
   "metadata": {},
   "outputs": [],
   "source": [
    "#want a polar plot so we need an array of theta values \n",
    "thetas = np.arange(-np.pi, np.pi, 2*np.pi/100)\n",
    "\n",
    "P_parallels = \n",
    "P_perps = \n",
    "for theta in thetas:\n",
    "    # write equation for perpendicuar component of power per solid angle \n",
    "    P_parallel = A * np.sin(theta)**2 /(gamma**2 * (1 - (v/c) * np.cos(theta))**2)\n",
    "    \n",
    "    p_1 = (gamma**2) * (1 - (v/c) * np.cos(theta))**4\n",
    "    p_2 = (np.sin(theta)**2) * (np.cos(phi)**2)\n",
    "    p_3 = (gamma**2) * (1 - (v/c) * np.cos(theta))**2\n",
    "    \n",
    "    P_perp = A * (1/p_1) * (1 - p_2/p_3)\n",
    "    \n",
    "    \n",
    "\n",
    "\n",
    "\n",
    "    "
   ]
  }
 ],
 "metadata": {
  "kernelspec": {
   "display_name": "Python 3 (ipykernel)",
   "language": "python",
   "name": "python3"
  },
  "language_info": {
   "codemirror_mode": {
    "name": "ipython",
    "version": 3
   },
   "file_extension": ".py",
   "mimetype": "text/x-python",
   "name": "python",
   "nbconvert_exporter": "python",
   "pygments_lexer": "ipython3",
   "version": "3.11.4"
  }
 },
 "nbformat": 4,
 "nbformat_minor": 5
}
